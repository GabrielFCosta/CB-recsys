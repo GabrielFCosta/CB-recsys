{
  "cells": [
    {
      "cell_type": "markdown",
      "metadata": {
        "id": "view-in-github",
        "colab_type": "text"
      },
      "source": [
        "<a href=\"https://colab.research.google.com/github/GabrielFCosta/TCC-BSI-2023.1/blob/main/old/matc97_gabriel_teste_5.ipynb\" target=\"_parent\"><img src=\"https://colab.research.google.com/assets/colab-badge.svg\" alt=\"Open In Colab\"/></a>"
      ]
    },
    {
      "cell_type": "code",
      "execution_count": null,
      "metadata": {
        "colab": {
          "base_uri": "https://localhost:8080/"
        },
        "id": "5g1zLg3Ipx77",
        "outputId": "046b2c47-9172-4e32-aded-c081908fa068"
      },
      "outputs": [
        {
          "output_type": "stream",
          "name": "stdout",
          "text": [
            "Looking in indexes: https://pypi.org/simple, https://us-python.pkg.dev/colab-wheels/public/simple/\n",
            "Requirement already satisfied: nltk in /usr/local/lib/python3.7/dist-packages (3.7)\n",
            "Requirement already satisfied: tqdm in /usr/local/lib/python3.7/dist-packages (from nltk) (4.64.1)\n",
            "Requirement already satisfied: joblib in /usr/local/lib/python3.7/dist-packages (from nltk) (1.2.0)\n",
            "Requirement already satisfied: click in /usr/local/lib/python3.7/dist-packages (from nltk) (7.1.2)\n",
            "Requirement already satisfied: regex>=2021.8.3 in /usr/local/lib/python3.7/dist-packages (from nltk) (2022.6.2)\n",
            "Looking in indexes: https://pypi.org/simple, https://us-python.pkg.dev/colab-wheels/public/simple/\n",
            "Requirement already satisfied: matplotlib in /usr/local/lib/python3.7/dist-packages (3.5.3)\n",
            "Requirement already satisfied: packaging>=20.0 in /usr/local/lib/python3.7/dist-packages (from matplotlib) (21.3)\n",
            "Requirement already satisfied: numpy>=1.17 in /usr/local/lib/python3.7/dist-packages (from matplotlib) (1.21.6)\n",
            "Requirement already satisfied: pillow>=6.2.0 in /usr/local/lib/python3.7/dist-packages (from matplotlib) (7.1.2)\n",
            "Requirement already satisfied: pyparsing>=2.2.1 in /usr/local/lib/python3.7/dist-packages (from matplotlib) (3.0.9)\n",
            "Requirement already satisfied: kiwisolver>=1.0.1 in /usr/local/lib/python3.7/dist-packages (from matplotlib) (1.4.4)\n",
            "Requirement already satisfied: python-dateutil>=2.7 in /usr/local/lib/python3.7/dist-packages (from matplotlib) (2.8.2)\n",
            "Requirement already satisfied: cycler>=0.10 in /usr/local/lib/python3.7/dist-packages (from matplotlib) (0.11.0)\n",
            "Requirement already satisfied: fonttools>=4.22.0 in /usr/local/lib/python3.7/dist-packages (from matplotlib) (4.37.4)\n",
            "Requirement already satisfied: typing-extensions in /usr/local/lib/python3.7/dist-packages (from kiwisolver>=1.0.1->matplotlib) (4.1.1)\n",
            "Requirement already satisfied: six>=1.5 in /usr/local/lib/python3.7/dist-packages (from python-dateutil>=2.7->matplotlib) (1.15.0)\n"
          ]
        }
      ],
      "source": [
        "!pip install nltk\n",
        "!pip install matplotlib --upgrade"
      ]
    },
    {
      "cell_type": "code",
      "execution_count": null,
      "metadata": {
        "colab": {
          "base_uri": "https://localhost:8080/"
        },
        "id": "kWcc_InWq1HI",
        "outputId": "a3ab2fe7-2ca7-43ca-dc8e-a9ec4b8deb22"
      },
      "outputs": [
        {
          "output_type": "stream",
          "name": "stderr",
          "text": [
            "[nltk_data] Downloading package averaged_perceptron_tagger to\n",
            "[nltk_data]     /root/nltk_data...\n",
            "[nltk_data]   Package averaged_perceptron_tagger is already up-to-\n",
            "[nltk_data]       date!\n",
            "[nltk_data] Downloading package omw-1.4 to /root/nltk_data...\n",
            "[nltk_data]   Package omw-1.4 is already up-to-date!\n",
            "[nltk_data] Downloading package punkt to /root/nltk_data...\n",
            "[nltk_data]   Package punkt is already up-to-date!\n",
            "[nltk_data] Downloading package wordnet to /root/nltk_data...\n",
            "[nltk_data]   Package wordnet is already up-to-date!\n"
          ]
        },
        {
          "output_type": "execute_result",
          "data": {
            "text/plain": [
              "True"
            ]
          },
          "metadata": {},
          "execution_count": 3
        }
      ],
      "source": [
        "import string\n",
        "import math\n",
        "import nltk\n",
        "import random\n",
        "import pandas as pd\n",
        "import numpy as np\n",
        "import time as tm\n",
        "import matplotlib.pyplot as plt\n",
        "import statistics as stats\n",
        "from nltk.corpus import wordnet as wn\n",
        "from nltk.tokenize import word_tokenize\n",
        "from nltk.tag import pos_tag\n",
        "from sklearn.feature_extraction.text import TfidfVectorizer\n",
        "from sklearn.metrics.pairwise import cosine_similarity\n",
        "nltk.download('averaged_perceptron_tagger')\n",
        "nltk.download('omw-1.4')\n",
        "nltk.download('punkt')\n",
        "nltk.download('wordnet')\n"
      ]
    },
    {
      "cell_type": "code",
      "execution_count": null,
      "metadata": {
        "id": "e1C1u6qgrWtg"
      },
      "outputs": [],
      "source": [
        "# Função de tokenização e POS tagging recebe string \n",
        "# retorna lista de tuplas contendo palavras e respectivas classes gramaticais\n",
        "def postagtokenize(text):\n",
        "  return pos_tag(word_tokenize(text))\n",
        "\n",
        "# Retorna dataframe de palavras e frequências\n",
        "# recebe lista de dados (words) e nome da coluna (colname)\n",
        "def returndataset(words,colname):\n",
        "  # junta listas de palavras e rótulos num dataframe\n",
        "  dataset = pd.DataFrame(zip(words),columns =[colname])\n",
        "  # calcula frequências das palavras e adiciona nova coluna 'freq'\n",
        "  dataset['freq'] = dataset.groupby([colname])[colname].transform('count')\n",
        "  return dataclean(dataset)\n",
        " \n",
        "# Remove linhas duplicatas e atualiza index do dataframe\n",
        "def dataclean(dataset):\n",
        "  dataset.drop_duplicates(inplace = True)\n",
        "  dataset.reset_index()\n",
        "  return dataset\n",
        "\n",
        "# Verifica rótulo gramatical\n",
        "def testtuple(tag):\n",
        "  # verificando todos substantivos.\n",
        "  tags = ['NN','NNS','NNP','NNPS']\n",
        "  for i in tags:\n",
        "    if i == tag:\n",
        "      return True\n",
        "  return False\n",
        "\n",
        "# Filtra palavras da lista gerada pelo pos-tagging \n",
        "# retorna lista de palavras contendo apenas substantivos\n",
        "def filtertuples(tuplelist):\n",
        "  words = []\n",
        "  for tuple in tuplelist:\n",
        "    if testtuple(tuple[1]):\n",
        "      words.append(tuple[0])\n",
        "  return words\n",
        "\n",
        "# remove palavras de menos de 3 letras da lista de palavras e retorna lista\n",
        "def removewords(wordlist):\n",
        "  for word in wordlist:\n",
        "    if len(word) < 3:\n",
        "      wordlist.remove(word)\n",
        "  return wordlist\n",
        "\n",
        "# concatena palavras da lista de palavras numa única string\n",
        "def concatenastring(wordlist):\n",
        "  return ' '.join(wordlist)\n",
        "\n",
        "# Retorna união de dois dataframes (words0 e words1) na coluna 'col' \n",
        "def datamerge(words0,words1,col):\n",
        "  merged = pd.merge(words0,words1, on=[col], how='outer')\n",
        "  merged = dataclean(merged).fillna(0)\n",
        "  return merged.sort_values(by=[col])\n",
        "\n",
        "# Cosseno não ponderado, calculado a partir da ocorrência de termos\n",
        "def cosine_simples(mergedf):\n",
        "  numerador = 0\n",
        "  denominador = 0\n",
        "  vetx = 0\n",
        "  vety = 0\n",
        "  #print(mergedf)\n",
        "  for idx, row in mergedf.iterrows():\n",
        "    numerador += row['freq_x'] * row['freq_y']\n",
        "    vetx += pow(row['freq_x'],2)\n",
        "    vety += pow(row['freq_y'],2)\n",
        "  vetx = math.sqrt(vetx)\n",
        "  vety = math.sqrt(vety)\n",
        "  denominador = vetx * vety\n",
        "  return round(numerador/denominador,4)\n",
        "# Similaridade com base na média das similaridades máximas entre palavras\n",
        "# recebe duas listas de palavras: wdlist0 -> usermodel; wdlist1 -> filme \n",
        "def similaridade_WP_max(wdlist0,wdlist1):\n",
        "  maximos = []\n",
        "  vals = []\n",
        "  aux = 0\n",
        "  for wd0 in wdlist0:\n",
        "    syn0 = wn.synsets(wd0)\n",
        "    # verifica se 1a palavra contém alguma definição antes de prosseguir\n",
        "    if len(syn0) > 0:\n",
        "      vals.clear()\n",
        "      for wd1 in wdlist1:\n",
        "        syn1 = wn.synsets(wd1)\n",
        "        # verifica se 2a palavra contém alguma definição antes de calcular similaridade\n",
        "        if len(syn1) > 0:\n",
        "          aux = syn0[0].wup_similarity(syn1[0])\n",
        "          # se similaridade = 1, palavras iguais, break\n",
        "          if aux == 1:\n",
        "            break\n",
        "          # senão, adiciona valor à lista vals\n",
        "          else:\n",
        "            vals.append(aux)\n",
        "      # se aux = 1, similaridade máxima = 1\n",
        "      if aux == 1:\n",
        "         maximos.append(aux)\n",
        "      # senão seleciona máxima da lista\n",
        "      else:\n",
        "        maximos.append(max(vals))\n",
        "  if len(maximos) == 0:\n",
        "    return None\n",
        "  else:\n",
        "    return round(sum(maximos)/len(maximos),4)\n"
      ]
    },
    {
      "cell_type": "code",
      "execution_count": null,
      "metadata": {
        "id": "nkon-CDeW5bt"
      },
      "outputs": [],
      "source": [
        "# Retorna dataframe de lemmas do wordnet das palavras contidas na lista 'wordlist'\n",
        "def getlemmas(wordlist):\n",
        "  lemmas = []\n",
        "  na = 'N\\A'\n",
        "  for wd in wordlist:\n",
        "    syn = wn.synsets(wd)\n",
        "    if len(syn) > 0:\n",
        "      if len(syn[0].lemmas()) > 0:\n",
        "        lemmas.append(syn[0].lemmas()[0].name())\n",
        "      else:\n",
        "        lemmas.append(na)\n",
        "  return pd.DataFrame(zip(lemmas),columns =['lemma'])\n",
        "\n",
        "# Retorna tabela de frequências dos lemmas\n",
        "def lemmafreqs(df0,df1):\n",
        "  df0 = lemmafreqaux(df0)\n",
        "  df1 = lemmafreqaux(df1)\n",
        "  return datamerge(df0,df1,'lemma')\n",
        "\n",
        "# auxiliar á função lemmafreqs para coletar lemmas válidos\n",
        "# retorna dataframe de lemmas com coluna de frequências\n",
        "def lemmafreqaux(df):\n",
        "  aux = []\n",
        "  # percorre o dataframe de uma coluna\n",
        "  for idx, row in df.iterrows():\n",
        "    if row['lemma'] != 'N\\A':\n",
        "      aux.append(row['lemma'])\n",
        "  return returndataset(aux,'lemma')\n"
      ]
    },
    {
      "cell_type": "code",
      "execution_count": null,
      "metadata": {
        "id": "3qeGsrP5hV1_"
      },
      "outputs": [],
      "source": [
        "# Funções de comparação recebem duas strings e comparam a primeira com a segunda \n",
        "# Comparação de substantivos utilizando cosine simples ou wupalmer\n",
        "def compwords(frase0,frase1,analise):\n",
        "  # converte duas strings para lista de palavras\n",
        "  frase0 = frase0.split()\n",
        "  frase1 = frase1.split()\n",
        "  # Retorna resultado de acordo com parâmetros de análise selecionado\n",
        "  if analise == 'w':\n",
        "    return similaridade_WP_max(frase0,frase1)\n",
        "  elif analise == 'c':\n",
        "    str0 = returndataset(frase0,'word')\n",
        "    str1 = returndataset(frase1,'word')\n",
        "    df = datamerge(str0,str1,'word')\n",
        "    return cosine_simples(df)\n",
        "# Comparação de lemmas utilizando cosine simples\n",
        "def complemmas(frase0,frase1):\n",
        "  frase0 = frase0.split()\n",
        "  frase1 = frase1.split()\n",
        "  # recebe dataframes de lemmas das respectivas frases\n",
        "  str0 = getlemmas(frase0)\n",
        "  str1 = getlemmas(frase1)\n",
        "  df = lemmafreqs(str0,str1)\n",
        "  return cosine_simples(df)\n",
        "# comparação utilizando o cosine do Scikit-learn\n",
        "def compscikit(frase0,frase1):\n",
        "  corpus = [frase0,frase1]\n",
        "  vectorizer = TfidfVectorizer()\n",
        "  trsfm=vectorizer.fit_transform(corpus)\n",
        "  return round(cosine_similarity(trsfm[0:1], trsfm)[0][1],4)\n"
      ]
    },
    {
      "cell_type": "code",
      "execution_count": null,
      "metadata": {
        "colab": {
          "base_uri": "https://localhost:8080/"
        },
        "id": "2zw49iuWWb-m",
        "outputId": "8bebe825-fdb4-46a8-f2a0-9cdd1e80dd48"
      },
      "outputs": [
        {
          "output_type": "stream",
          "name": "stdout",
          "text": [
            "frase0: airbnb listings china years lockdowns country\n",
            "frase1: summer airbnb listings offers experiences china\n",
            "frase2: brands apple lauder impact restrictions\n",
            "\n",
            "######## Média das máximas Wu-Palmer (substantivos) ########\n",
            "strings 0 e 0: 1.0\n",
            "strings 0 e 1: 0.7073\n",
            "strings 0 e 2: 0.3165\n",
            "######## Tempo de execução: 2.1345267295837402 ########\n",
            "\n",
            "######## Cosine não ponderado (substantivos) ########\n",
            "strings 0 e 0: 1.0\n",
            "strings 0 e 1: 0.5\n",
            "strings 0 e 2: 0.0\n",
            "######## Tempo de execução: 0.05768084526062012 ########\n",
            "\n",
            "######## Cosine do Scikit (substantivos) ########\n",
            "strings 0 e 1: 0.3361\n",
            "strings 0 e 2: 0.0\n",
            "######## Tempo de execução: 0.00905466079711914 ########\n",
            "\n",
            "######## Cosine não ponderado (lemmas do wordnet) ########\n",
            "strings 0 e 0: 1.0\n",
            "strings 0 e 1: 0.4\n",
            "strings 0 e 2: 0.0\n",
            "######## Tempo de execução: 0.06890249252319336 ########\n"
          ]
        }
      ],
      "source": [
        "# Testes iniciais com frases simples\n",
        "frases = [\"Airbnb will shut down its listings in China after two years of lockdowns in the country.\",\n",
        "        \"Starting this summer, Airbnb will take down its listings and offers for hosted experiences in China.\",\n",
        "        \"International brands, from Apple to Estee Lauder, have warned of the financial impact of the restrictions.\"]\n",
        "# pré-processamento das frases\n",
        "str0 = concatenastring(filtertuples(postagtokenize(frases[0].lower())))\n",
        "str1 = concatenastring(filtertuples(postagtokenize(frases[1].lower())))\n",
        "str2 = concatenastring(filtertuples(postagtokenize(frases[2].lower())))\n",
        "print('frase0: '+str0)\n",
        "print('frase1: '+str1)\n",
        "print('frase2: '+str2)\n",
        "\n",
        "start = tm.time()\n",
        "print(\"\\n######## Média das máximas Wu-Palmer (substantivos) ########\")\n",
        "print(\"strings 0 e 0: \" + str(compwords(str0,str0,'w')))\n",
        "print(\"strings 0 e 1: \" + str(compwords(str0,str1,'w')))\n",
        "print(\"strings 0 e 2: \" + str(compwords(str0,str2,'w')))\n",
        "end = tm.time()\n",
        "print(\"######## Tempo de execução:\", end-start,\"########\")\n",
        "\n",
        "start = tm.time()\n",
        "print(\"\\n######## Cosine não ponderado (substantivos) ########\")\n",
        "print(\"strings 0 e 0: \" + str(compwords(str0,str0,'c')))\n",
        "print(\"strings 0 e 1: \" + str(compwords(str0,str1,'c')))\n",
        "print(\"strings 0 e 2: \" + str(compwords(str0,str2,'c')))\n",
        "end = tm.time()\n",
        "print(\"######## Tempo de execução:\", end-start,\"########\")\n",
        "\n",
        "start = tm.time()\n",
        "print('\\n######## Cosine do Scikit (substantivos) ########')\n",
        "print(\"strings 0 e 1: \" + str(compscikit(str0,str1)))\n",
        "print(\"strings 0 e 2: \" + str(compscikit(str0,str2)))\n",
        "end = tm.time()\n",
        "print(\"######## Tempo de execução:\", end-start,\"########\")\n",
        "\n",
        "start = tm.time()\n",
        "print('\\n######## Cosine não ponderado (lemmas do wordnet) ########')\n",
        "print(\"strings 0 e 0: \" + str(complemmas(str0,str0)))\n",
        "print(\"strings 0 e 1: \" + str(complemmas(str0,str1)))\n",
        "print(\"strings 0 e 2: \" + str(complemmas(str0,str2)))\n",
        "end = tm.time()\n",
        "print(\"######## Tempo de execução:\", end-start,\"########\")\n"
      ]
    },
    {
      "cell_type": "code",
      "execution_count": null,
      "metadata": {
        "id": "KPnYyw4MdM1B"
      },
      "outputs": [],
      "source": [
        "# carregamento da base de dados de filmes\n",
        "urls = [\"https://raw.githubusercontent.com/GabrielFCosta/preprocessamento/main/movies.csv\",\n",
        "        \"https://raw.githubusercontent.com/GabrielFCosta/preprocessamento/main/ratings.csv\",\n",
        "        \"https://raw.githubusercontent.com/GabrielFCosta/preprocessamento/main/tags.csv\"]\n",
        "datasets = []\n",
        "for url in urls:\n",
        "  df = pd.read_csv(url)\n",
        "  datasets.append(df)\n",
        "# concatena títulos e gêneros, substituindo barras verticais por espaços na coluna de genêros,\n",
        "# ...na nova coluna 'string' da base de filmes\n",
        "datasets[0]['string'] = datasets[0]['title'] + datasets[0]['genres'].str.replace('|', ' ', regex=True)\n",
        "auxlist =[]\n",
        "# concatenando tags de usuários\n",
        "for idx1, row in datasets[0].iterrows():\n",
        "  # para cada filme filtra as tags do filme num dataframe \n",
        "  usertags = datasets[2].loc[datasets[2]['movieId'] == row['movieId'] ] \n",
        "  aux =''\n",
        "  # percorre dataframe de tags concatenando tags numa string 'aux'\n",
        "  for idx2, tags in usertags.iterrows():\n",
        "    aux = aux + tags['tag'] + ' '\n",
        "  # coloca string 'aux' numa lista 'auxlist'\n",
        "  auxlist.append(aux)\n",
        "# concatena string de tags à coluna de string no banco\n",
        "datasets[0]['string'] = datasets[0]['string'] + ' ' + auxlist\n",
        "auxlist.clear()\n",
        "# pré-processamento prévio da string, para cada string da coluna 'string'\n",
        "auxl = []\n",
        "for idx, row in datasets[0].iterrows():\n",
        "  # faz o POS tagging, remove uppercases e seleciona todos substantivos\n",
        "  auxl = filtertuples(postagtokenize(row['string'].lower()))\n",
        "  # remove substantivos duplicados\n",
        "  auxl = list(dict.fromkeys(auxl))\n",
        "  # remove substantivos com menos de 3 letras, converte lista pra string\n",
        "  auxl = concatenastring(removewords(auxl))\n",
        "  auxlist.append(auxl)\n",
        "datasets[0]['string'] = auxlist\n",
        "auxlist.clear()\n",
        "#print(datasets[0])\n"
      ]
    },
    {
      "cell_type": "code",
      "execution_count": null,
      "metadata": {
        "id": "c-_wgIhHMee5"
      },
      "outputs": [],
      "source": [
        "# recebe o dataframe de onde serão sorteados (df); quantidade a ser sorteada (qtd);\n",
        "# rótulo que deve ser adicionado, 0 ou 1, (maxrated); semente para sorteio reproduzivel (state)\n",
        "# retorna dataframe de amostras de filmes pseudo-aleatórios com rótulos de rating\n",
        "def sampledata(df,qtd,maxrated,state):\n",
        "  data = pd.DataFrame()\n",
        "  data = df.sample(n = qtd, random_state = state)\n",
        "  data = data.astype({'movieId':'int'})\n",
        "  data[\"max_rated\"] = maxrated\n",
        "  return data\n",
        "\n",
        "# junta dois dataframes de movieIds e rótulos de classe\n",
        "# retorna dataframe contendo movieIds e rótulos, ordenado por movieId\n",
        "def mergesamples(usersample,mids):\n",
        "  merged = pd.merge(usersample,mids, on=['movieId'], how='outer')\n",
        "  merged = dataclean(merged).fillna(0)\n",
        "  merged = merged.astype({'max_rated_x':'int'})\n",
        "  merged.rename(columns = {'max_rated_x':'max_rated'}, inplace = True)\n",
        "  merged.drop(['userId', 'rating', 'max_rated_y'], axis=1, inplace=True)\n",
        "  return merged.sort_values(by=['movieId'])\n",
        "\n",
        "# Retorna string do filme a partir do movieId\n",
        "def returnstring(movieId):\n",
        "  ref = datasets[0][datasets[0]['movieId'] == movieId]\n",
        "  return ref['string'].iloc[0]\n",
        "\n",
        "# Comparação seletiva. recebe string do usuário (usermodel),\n",
        "# Dataframe dos dados de teste (testsample) e indicador da análise\n",
        "# retorna dataframe contendo 10 resultados do topo da análise\n",
        "def batchcompare(usermodel,testsample,analise):\n",
        "  samplelist = []\n",
        "  valores = []\n",
        "  df  = pd.DataFrame()\n",
        "  df = testsample.copy(deep=True)\n",
        "  # coleta todas as strings dos filmes de teste na lista samplelist\n",
        "  for idx, row in testsample.iterrows():\n",
        "    samplelist.append(returnstring(row['movieId']))\n",
        "  # compara de acordo com o parâmetro comparison\n",
        "  if analise == 'max_wp':\n",
        "    for frase in samplelist:\n",
        "      valores.append(compwords(usermodel,frase,'w'))\n",
        "    df[analise] = valores\n",
        "    return df.sort_values(by=[analise], ascending = False).head(10)\n",
        "  elif analise == 'cos_ns':\n",
        "    for frase in samplelist:\n",
        "      valores.append(compwords(usermodel,frase,'c'))\n",
        "    df[analise] = valores\n",
        "    return df.sort_values(by=[analise], ascending = False).head(10)\n",
        "  elif analise == 'cos_ls':\n",
        "    for frase in samplelist:\n",
        "      valores.append(complemmas(usermodel,frase))\n",
        "    df[analise] = valores\n",
        "    return df.sort_values(by=[analise], ascending = False).head(10)\n",
        "  elif analise == 'cos_sk':\n",
        "    for frase in samplelist:\n",
        "      valores.append(compscikit(usermodel,frase))\n",
        "    df[analise] = valores\n",
        "    return df.sort_values(by=[analise], ascending = False).head(10)\n",
        "  return None\n",
        "\n",
        "def calculaprecisao(lista,kpos):\n",
        "  c = 0\n",
        "  for i in lista[0:kpos]:\n",
        "    if i == 1:\n",
        "      c+=1\n",
        "  return round(c/kpos,4)\n",
        "\n",
        "def calculamrr(lista,kpos):\n",
        "  c = 0\n",
        "  for i in range(kpos):\n",
        "    c += calculaprecisao(lista,i+1)\n",
        "  return round(c/kpos,4)\n"
      ]
    },
    {
      "cell_type": "code",
      "execution_count": null,
      "metadata": {
        "id": "eSY9zYBjJGxm"
      },
      "outputs": [],
      "source": [
        "\n",
        "'''\n",
        "filmes assistidos = 100\n",
        "filmes assistidos >= 4 = 30\n",
        "filmes para candidate set = 10 de 30\n",
        "filmes do candidate set = 10 + 90 aleatorios não assistidos\n",
        "tags do perfil = 10 ou 15 palavras mais frequentes dos 30\n",
        "calcula precisão @ 3, 5, 10\n",
        "calcula mrr @ posição 3, 5, 10 (qtd relevantes / posição)\n",
        "calcula map (média da precisão de vários usuário, pra 3, 5, 10)\n",
        "'''\n",
        "\n",
        "# retorna string dos termos mais frequentes do perfil de usuário\n",
        "def returnperfil(wordlist):\n",
        "  # junta lista de palavras e rótulo num dataframe\n",
        "  dataset = pd.DataFrame(wordlist,columns =['word'])\n",
        "  # calcula frequências das palavras e adiciona nova coluna\n",
        "  dataset['freq'] = dataset.groupby(['word'])['word'].transform('count')\n",
        "  dataset = dataclean(dataset)\n",
        "  # ordena palavras de acordo com frequência\n",
        "  dataset = dataset.sort_values(by=['freq'], ascending = False).head(15)\n",
        "  return concatenastring(dataset['word'].tolist())\n",
        "\n",
        "# recebe dataframe dos filmes bem avaliados pelo usuário\n",
        "# retorna string do perfil do usuário\n",
        "def perfilusuario(user):\n",
        "  userstring = []\n",
        "  wordlist = []\n",
        "  for idx, row in user.iterrows():\n",
        "    # converte strings dos filmes do usuário em listas\n",
        "    userstring = returnstring(row['movieId']).split()\n",
        "    # junta tudo numa única lista\n",
        "    for word in userstring:\n",
        "      wordlist.append(word)\n",
        "  return returnperfil(wordlist)\n",
        "\n",
        "# recebe dataframe do usuário e id do usuário para semente aleatória\n",
        "# retorna dataframe vazio se no. de filmes não avaliados pelo usuário < 90\n",
        "def sorteiadados(userdf,userid):\n",
        "  # sorteia 10 filmes do usuário para os dados de teste\n",
        "  usersample = pd.DataFrame()\n",
        "  usersample = sampledata(userdf,10,1,userid)\n",
        "  # pega todos os ids de filmes da base original\n",
        "  mids = pd.DataFrame()\n",
        "  mids['movieId'] = datasets[0]['movieId']\n",
        "  # pega todos os filmes do usuário\n",
        "  watched = pd.DataFrame()\n",
        "  watched = datasets[1].loc[(datasets[1]['userId'] == userid)]\n",
        "  # exclui todos filmes do usuário do total de filmes\n",
        "  mask = mids['movieId'].isin(watched['movieId'].tolist())\n",
        "  mids = mids[~mask]\n",
        "  # filmes não avaliados devem totalizar pelo menos 90\n",
        "  if mids.shape[0] == 90:\n",
        "    return mergesamples(usersample,mids)\n",
        "  elif mids.shape[0] > 90:\n",
        "    # sorteia 90 outros filmes não avaliados\n",
        "    mids = sampledata(mids,90,0,userid)\n",
        "    # dados de teste rotulados. 10 filmes de rating 1 mais 90 de 0\n",
        "    return mergesamples(usersample,mids)\n",
        "  return pd.DataFrame()\n",
        "\n",
        "# tenta análise individualmente e retorna lista de resultados de uma análise\n",
        "def getresults(usermodel,testsample,analise):\n",
        "  results = []\n",
        "  df = pd.DataFrame()\n",
        "  try:\n",
        "    #print(\"analise: \" + analise)\n",
        "    df = batchcompare(usermodel,testsample,analise) \n",
        "    #print(df)\n",
        "    results.append(calculaprecisao(df['max_rated'].tolist(),3))\n",
        "    results.append(calculaprecisao(df['max_rated'].tolist(),5))\n",
        "    results.append(calculaprecisao(df['max_rated'].tolist(),10))\n",
        "    results.append(calculamrr(df['max_rated'].tolist(),3))\n",
        "    results.append(calculamrr(df['max_rated'].tolist(),5))\n",
        "    results.append(calculamrr(df['max_rated'].tolist(),10))\n",
        "    #print(results)\n",
        "    return results\n",
        "  except:\n",
        "    results.clear()\n",
        "    for i in range(6):\n",
        "      results.append(np.nan)\n",
        "    return results\n",
        "\n",
        "# tenta análises sequencialmente e retorna lista de resultados concatenados\n",
        "def analises(usermodel,testsample,userid):\n",
        "  results = [userid]\n",
        "  analises = ['max_wp','cos_ns','cos_ls','cos_sk']\n",
        "  # concatenando resultados numa única lista\n",
        "  for i in analises:\n",
        "    results.extend(getresults(usermodel,testsample,i))\n",
        "  return results\n",
        "\n",
        "# Análise em lotes com base no perfil do usuário\n",
        "def analiseperfil(times):\n",
        "  if times >= 1 and times <= 610:\n",
        "    # colunas utilizadas e analises() e analiseperfil()\n",
        "    colunas = ['userId','max_wp_p3','max_wp_p5','max_wp_p10','max_wp_mrr3','max_wp_mrr5','max_wp_mrr10',\n",
        "           'cos_ns_p3','cos_ns_p5','cos_ns_p10','cos_ns_mrr3','cos_ns_mrr5','cos_ns_mrr10',\n",
        "           'cos_ls_p3','cos_ls_p5','cos_ls_p10','cos_ls_mrr3','cos_ls_mrr5','cos_ls_mrr10',\n",
        "           'cos_sk_p3','cos_sk_p5','cos_sk_p10','cos_sk_mrr3','cos_sk_mrr5','cos_sk_mrr10']\n",
        "    resultados = pd.DataFrame(columns=colunas)\n",
        "    # faz a analise para todos os usuários sequencialmente do 1 ao 610\n",
        "    for i in range(times):\n",
        "      id  = i+1\n",
        "      # seleciona todos os filmes do usuário com avaliação > 4\n",
        "      user = datasets[1].loc[(datasets[1]['userId'] == id) & (datasets[1]['rating'] >= 4.0)]\n",
        "      # usuário deve ter mais de 10 filmes com avaliação > 4\n",
        "      if user.shape[0] > 10:\n",
        "        # string do perfil do usuário\n",
        "        usermodel = perfilusuario(user)\n",
        "        #print(usermodel)\n",
        "        # dados de teste devem ter 100 filmes\n",
        "        testsample = sorteiadados(user,id)\n",
        "        if testsample.shape[0] == 100:\n",
        "          #print(testsample)\n",
        "          resaux = analises(usermodel,testsample,id)\n",
        "          resaux = pd.DataFrame([resaux], columns=colunas)\n",
        "          resultados = pd.concat([resultados,resaux])\n",
        "        else:\n",
        "          print(\"userId: \" + str(id) + \" -> testsample com erro.\")\n",
        "      else:\n",
        "        print(\"userId: \" + str(id) + \" -> No. de filmes insuficiente.\")\n",
        "  else:\n",
        "    print(\"quantidade inválida de iterações\")\n",
        "  resultados.dropna(axis=0, inplace=True)\n",
        "  return resultados\n",
        "\n",
        "# Em torno de 30 minutos para rodar todos os usuários \n",
        "#resultados = analiseperfil(610)\n",
        "#resultados.shape\n",
        "#resultados.to_csv('resultados.csv', sep=',', encoding='utf-8')\n"
      ]
    },
    {
      "cell_type": "code",
      "source": [
        "colunas = ['analise','médiaP3','médiaP5','médiaP10','médiaMRR3','médiaMRR5','médiaMRR10']\n",
        "colunas1 = ['analise','desvioP3','desvioP5','desvioP10','desvioMRR3','desvioMRR5','desvioMRR10']\n",
        "linhas = ['max_wp','cos_ns','cos_ls','cos_sk']\n",
        "url = \"https://raw.githubusercontent.com/GabrielFCosta/preprocessamento/main/resultados.csv\"\n",
        "res = pd.read_csv(url)\n",
        "res = res.drop(res.columns[[0, 1]],axis=1)\n",
        "means = res.mean().tolist()\n",
        "stds = res.std().tolist()\n",
        "# cria dataframe de médias e desvios\n",
        "first = 0\n",
        "last = 6\n",
        "lmean = []\n",
        "lstd = []\n",
        "medias = pd.DataFrame(columns = colunas)\n",
        "desvios = pd.DataFrame(columns = colunas1)\n",
        "for i in linhas:\n",
        "  lmean = [i]\n",
        "  lstd = [i]\n",
        "  lmean.extend(means[first:last])\n",
        "  lstd.extend(stds[first:last])\n",
        "  medias = pd.concat([medias,pd.DataFrame([lmean],columns=colunas)])\n",
        "  desvios = pd.concat([desvios,pd.DataFrame([lstd],columns=colunas1)])\n",
        "  first += 6\n",
        "  last += 6\n",
        "# MAP de p3, p5 e p10\n",
        "# medias das precisões de cada método por linha\n",
        "max_wp = []\n",
        "cos_ns = []\n",
        "cos_ls = []\n",
        "cos_sk = []\n",
        "for i in range(res.shape[0]):\n",
        "  max_wp.append(res.iloc[i][:3].mean())\n",
        "  cos_ns.append(res.iloc[i][6:9].mean())\n",
        "  cos_ls.append(res.iloc[i][12:15].mean())\n",
        "  cos_sk.append(res.iloc[i][18:21].mean())\n",
        "# MAP é a média das médias\n",
        "maps = [stats.mean(max_wp),stats.mean(cos_ns),stats.mean(cos_ls),stats.mean(cos_sk)]\n",
        "\n",
        "# gráfico do MAP\n",
        "def simplebar(x,y,titulo,rotuloX):\n",
        "  ax = plt.bar(x,y, color='#b46464')\n",
        "  plt.title(titulo)\n",
        "  plt.xlabel(rotuloX)\n",
        "  plt.bar_label(ax, label_type='edge')\n",
        "  plt.margins(y=0.1)\n",
        "  plt.show()\n",
        "# outros gráficos\n",
        "def groupbarplot(bar1,bar2,bar3,labels,legends,titulo):\n",
        "  #fig = plt.figure(figsize=(7,5))\n",
        "  # largura das colunas\n",
        "  largura = 0.30\n",
        "  # dados são colunas do dataframe como listas\n",
        "  # Set position of bar on X axis\n",
        "  r1 = np.arange(len(bar1))\n",
        "  r2 = [x + largura for x in r1]\n",
        "  r3 = [x + largura for x in r2]\n",
        "  # Make the plot\n",
        "  plt.bar(r1, bar1, color='#b46464', width=largura, edgecolor='white', label=labels[0])\n",
        "  plt.bar(r2, bar2, color='#64b464', width=largura, edgecolor='white', label=labels[1])\n",
        "  plt.bar(r3, bar3, color='#6464b4', width=largura, edgecolor='white', label=labels[2])\n",
        "  plt.xlabel('Método')\n",
        "  plt.title(titulo)\n",
        "   # Add xticks on the middle of the group bars\n",
        "  plt.xticks([x + largura for x in range(len(bar1))],legends)\n",
        "  # Create legend & Show graphic\n",
        "  plt.legend(framealpha=0.5)\n",
        "  plt.show()\n",
        "\n",
        "def boxgraph(boxlist,titulo,rotulos):\n",
        "  plt.title(titulo)\n",
        "  plt.boxplot(boxlist,labels=rotulos,meanline=True, showmeans=True)\n",
        "  plt.show()\n",
        "\n",
        "boxgraph([res['max_wp_p3'],res['max_wp_p5'],res['max_wp_p10']],\"Precisão da Média das Máximas de Wu-Palmer (max_wp)\", ['P3','P5','P10'])\n",
        "print('\\n')\n",
        "boxgraph([res['cos_ns_p3'],res['cos_ns_p5'],res['cos_ns_p10']],\"Precisão do Cosseno Simples dos Substantivos (cos_ns)\", ['P3','P5','P10'])\n",
        "print('\\n')\n",
        "boxgraph([res['cos_ls_p3'],res['cos_ls_p5'],res['cos_ls_p10']],\"Precisão do Cosseno Simples dos Lemmas (cos_ls)\", ['P3','P5','P10'])\n",
        "print('\\n')\n",
        "boxgraph([res['cos_sk_p3'],res['cos_sk_p5'],res['cos_sk_p10']],\"Precisão do Cosseno do Scikit-learn dos Substantivos (cos_sk)\", ['P3','P5','P10'])\n",
        "print('\\n')\n",
        "groupbarplot(medias['médiaP3'].tolist(),medias['médiaP5'].tolist(),medias['médiaP10'].tolist(),\n",
        "             list(medias.columns)[1:4],medias['analise'].tolist(),\"Médias da Precisão\")\n",
        "print('\\n')\n",
        "groupbarplot(desvios['desvioP3'].tolist(),desvios['desvioP5'].tolist(),desvios['desvioP10'].tolist(),\n",
        "             list(desvios.columns)[1:4],desvios['analise'].tolist(),\"Desvio Padrão da Precisão\")\n",
        "print('\\n')\n",
        "groupbarplot(medias['médiaMRR3'].tolist(),medias['médiaMRR5'].tolist(),medias['médiaMRR10'].tolist(),\n",
        "             list(medias.columns)[4:8],medias['analise'].tolist(),\"Médias do MRR\")\n",
        "print('\\n')\n",
        "groupbarplot(desvios['desvioMRR3'].tolist(),desvios['desvioMRR5'].tolist(),desvios['desvioMRR10'].tolist(),\n",
        "             list(desvios.columns)[4:8],desvios['analise'].tolist(),\"Desvio Padrão do MRR\")\n",
        "print('\\n')\n",
        "simplebar(medias['analise'].tolist(),maps,\"MAP de P3, P5 e P10\",\"Método\")\n"
      ],
      "metadata": {
        "colab": {
          "base_uri": "https://localhost:8080/",
          "height": 1000
        },
        "id": "v7ZGQJOM2S4q",
        "outputId": "0c446c4b-52a2-44a3-a8f3-77595f157319"
      },
      "execution_count": null,
      "outputs": [
        {
          "output_type": "display_data",
          "data": {
            "text/plain": [
              "<Figure size 432x288 with 1 Axes>"
            ],
            "image/png": "[encoded data removed]"
          },
          "metadata": {
            "needs_background": "light"
          }
        },
        {
          "output_type": "stream",
          "name": "stdout",
          "text": [
            "\n",
            "\n"
          ]
        },
        {
          "output_type": "display_data",
          "data": {
            "text/plain": [
              "<Figure size 432x288 with 1 Axes>"
            ],
            "image/png": "[encoded data removed]"
          },
          "metadata": {
            "needs_background": "light"
          }
        },
        {
          "output_type": "stream",
          "name": "stdout",
          "text": [
            "\n",
            "\n"
          ]
        },
        {
          "output_type": "display_data",
          "data": {
            "text/plain": [
              "<Figure size 432x288 with 1 Axes>"
            ],
            "image/png": "[encoded data removed]"
          },
          "metadata": {
            "needs_background": "light"
          }
        },
        {
          "output_type": "stream",
          "name": "stdout",
          "text": [
            "\n",
            "\n"
          ]
        },
        {
          "output_type": "display_data",
          "data": {
            "text/plain": [
              "<Figure size 432x288 with 1 Axes>"
            ],
            "image/png": "[encoded data removed]"
          },
          "metadata": {
            "needs_background": "light"
          }
        },
        {
          "output_type": "stream",
          "name": "stdout",
          "text": [
            "\n",
            "\n"
          ]
        },
        {
          "output_type": "display_data",
          "data": {
            "text/plain": [
              "<Figure size 432x288 with 1 Axes>"
            ],
            "image/png": "[encoded data removed]"
          },
          "metadata": {
            "needs_background": "light"
          }
        },
        {
          "output_type": "stream",
          "name": "stdout",
          "text": [
            "\n",
            "\n"
          ]
        },
        {
          "output_type": "display_data",
          "data": {
            "text/plain": [
              "<Figure size 432x288 with 1 Axes>"
            ],
            "image/png": "[encoded data removed]"
          },
          "metadata": {
            "needs_background": "light"
          }
        },
        {
          "output_type": "stream",
          "name": "stdout",
          "text": [
            "\n",
            "\n"
          ]
        },
        {
          "output_type": "display_data",
          "data": {
            "text/plain": [
              "<Figure size 432x288 with 1 Axes>"
            ],
            "image/png": "[encoded data removed]"
          },
          "metadata": {
            "needs_background": "light"
          }
        },
        {
          "output_type": "stream",
          "name": "stdout",
          "text": [
            "\n",
            "\n"
          ]
        },
        {
          "output_type": "display_data",
          "data": {
            "text/plain": [
              "<Figure size 432x288 with 1 Axes>"
            ],
            "image/png": "[encoded data removed]"
          },
          "metadata": {
            "needs_background": "light"
          }
        },
        {
          "output_type": "stream",
          "name": "stdout",
          "text": [
            "\n",
            "\n"
          ]
        },
        {
          "output_type": "display_data",
          "data": {
            "text/plain": [
              "<Figure size 432x288 with 1 Axes>"
            ],
            "image/png": "[encoded data removed]"
          },
          "metadata": {
            "needs_background": "light"
          }
        }
      ]
    }
  ],
  "metadata": {
    "colab": {
      "provenance": [],
      "authorship_tag": "ABX9TyMHNqaawLm42XGs00Ps06xN",
      "include_colab_link": true
    },
    "kernelspec": {
      "display_name": "Python 3",
      "name": "python3"
    },
    "language_info": {
      "name": "python"
    }
  },
  "nbformat": 4,
  "nbformat_minor": 0
}